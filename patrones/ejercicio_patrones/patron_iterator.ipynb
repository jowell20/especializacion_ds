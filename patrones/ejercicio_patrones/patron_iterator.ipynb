{
 "cells": [
  {
   "cell_type": "code",
   "execution_count": 5,
   "metadata": {},
   "outputs": [],
   "source": [
    "# define los atributos de un libro\n",
    "class Libro:\n",
    "    def __init__(self, titulo, autor, disponible=True):\n",
    "        self.titulo = titulo\n",
    "        self.autor = autor\n",
    "        self.disponible = disponible\n"
   ]
  },
  {
   "cell_type": "code",
   "execution_count": 11,
   "metadata": {},
   "outputs": [],
   "source": [
    "#define los metodos necesarios para un iterador\n",
    "class Iterador:\n",
    "\n",
    "    def has_next(self):\n",
    "        pass\n",
    "\n",
    "    def next(self):\n",
    "        pass\n"
   ]
  },
  {
   "cell_type": "code",
   "execution_count": 15,
   "metadata": {},
   "outputs": [],
   "source": [
    "class IteradorLibrosDisponibles(Iterador):\n",
    "    def __init__(self, libros):\n",
    "        self.libros = libros\n",
    "        self.posicion_actual = 0\n",
    "    \"\"\" Esta funcio debe devolver True si hay más elementos en la colección por recorrer, y False si no. \"\"\"\n",
    "    def has_next(self):\n",
    "        # Busca el siguiente libro disponible\n",
    "        while self.posicion_actual < len(self.libros):\n",
    "            if self.libros[self.posicion_actual].disponible:\n",
    "                return True\n",
    "            self.posicion_actual += 1\n",
    "        return False\n",
    "\n",
    "    def next(self):\n",
    "        # Devuelve el siguiente libro disponible\n",
    "        if self.has_next():\n",
    "            libro = self.libros[self.posicion_actual]\n",
    "            self.posicion_actual += 1\n",
    "            return libro\n",
    "        return None"
   ]
  },
  {
   "cell_type": "code",
   "execution_count": 13,
   "metadata": {},
   "outputs": [],
   "source": [
    "class Biblioteca:\n",
    "    def __init__(self):\n",
    "        self.libros = []\n",
    "\n",
    "    def agregar_libro(self, libro):\n",
    "        self.libros.append(libro)\n",
    "\n",
    "    def crear_iterador_libros_disponibles(self):\n",
    "        return IteradorLibrosDisponibles(self.libros)"
   ]
  },
  {
   "cell_type": "code",
   "execution_count": 14,
   "metadata": {},
   "outputs": [
    {
     "name": "stdout",
     "output_type": "stream",
     "text": [
      "Libro disponible: 1984 de George Orwell\n",
      "Libro disponible: Fahrenheit 451 de Ray Bradbury\n"
     ]
    }
   ],
   "source": [
    "# Código del cliente (usando el patrón Iterator)\n",
    "biblioteca = Biblioteca()\n",
    "\n",
    "# Agregamos algunos libros\n",
    "biblioteca.agregar_libro(Libro(\"1984\", \"George Orwell\"))\n",
    "biblioteca.agregar_libro(Libro(\"Brave New World\", \"Aldous Huxley\", disponible=False))\n",
    "biblioteca.agregar_libro(Libro(\"Fahrenheit 451\", \"Ray Bradbury\"))\n",
    "\n",
    "# Cliente usa el iterador sin saber cómo está estructurada la lista de libros\n",
    "iterador = biblioteca.crear_iterador_libros_disponibles()\n",
    "\n",
    "while iterador.has_next():\n",
    "    libro = iterador.next()\n",
    "    print(f\"Libro disponible: {libro.titulo} de {libro.autor}\")"
   ]
  }
 ],
 "metadata": {
  "kernelspec": {
   "display_name": "Python 3 (ipykernel)",
   "language": "python",
   "name": "python3"
  },
  "language_info": {
   "codemirror_mode": {
    "name": "ipython",
    "version": 3
   },
   "file_extension": ".py",
   "mimetype": "text/x-python",
   "name": "python",
   "nbconvert_exporter": "python",
   "pygments_lexer": "ipython3",
   "version": "3.12.1"
  }
 },
 "nbformat": 4,
 "nbformat_minor": 2
}
