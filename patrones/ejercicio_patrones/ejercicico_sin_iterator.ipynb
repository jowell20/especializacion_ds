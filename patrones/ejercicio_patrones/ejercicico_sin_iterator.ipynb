{
 "cells": [
  {
   "cell_type": "code",
   "execution_count": 1,
   "metadata": {},
   "outputs": [],
   "source": [
    " #en un sistema de gestión de libros para una biblioteca digital. Imagina\n",
    "  #que estás implementando la funcionalidad para que los usuarios naveguen\n",
    "  #por una vasta colección de libros organizados\n",
    "  #en diferentes categorías, géneros, autores,\n",
    "  Problema:\n",
    "#El sistema debe ofrecer una interfaz unificada para recorrer las colecciones de libros, sin importar la\n",
    "#estructura interna que se use (lista, conjunto, base de datos, etc.). El sistema también debe soportar diferentes\n",
    " #tipos de recorridos, como navegar solo por libros disponibles, o aquellos recomendados, o simplemente por orden\n",
    " #alfabético, pero la forma de acceder a los libros debe ser transparente para los clientes.\n",
    "class Libro:\n",
    "    def __init__(self, titulo, autor, disponible=True):\n",
    "        self.titulo = titulo\n",
    "        self.autor = autor\n",
    "        self.disponible = disponible"
   ]
  },
  {
   "cell_type": "code",
   "execution_count": 2,
   "metadata": {},
   "outputs": [],
   "source": [
    "class Biblioteca:\n",
    "    def __init__(self):\n",
    "        self.libros = []\n",
    "\n",
    "    def agregar_libro(self, libro):\n",
    "        self.libros.append(libro)\n",
    "\n",
    "    def obtener_libros(self):\n",
    "        return self.libros"
   ]
  },
  {
   "cell_type": "code",
   "execution_count": 3,
   "metadata": {},
   "outputs": [
    {
     "name": "stdout",
     "output_type": "stream",
     "text": [
      "Libro disponible: 1984 de George Orwell\n",
      "Libro disponible: Fahrenheit 451 de Ray Bradbury\n"
     ]
    }
   ],
   "source": [
    "# Código del cliente (recorre la lista manualmente)\n",
    "biblioteca = Biblioteca()\n",
    "\n",
    "# Agregamos algunos libros\n",
    "biblioteca.agregar_libro(Libro(\"1984\", \"George Orwell\"))\n",
    "biblioteca.agregar_libro(Libro(\"Brave New World\", \"Aldous Huxley\", disponible=False))\n",
    "biblioteca.agregar_libro(Libro(\"Fahrenheit 451\", \"Ray Bradbury\"))\n",
    "\n",
    "# El cliente debe recorrer la lista manualmente\n",
    "for libro in biblioteca.obtener_libros():\n",
    "    if libro.disponible:\n",
    "        print(f\"Libro disponible: {libro.titulo} de {libro.autor}\")"
   ]
  }
 ],
 "metadata": {
  "kernelspec": {
   "display_name": "Python 3 (ipykernel)",
   "language": "python",
   "name": "python3"
  }
 },
 "nbformat": 4,
 "nbformat_minor": 2
}
