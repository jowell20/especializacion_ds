{
 "cells": [
  {
   "cell_type": "code",
   "execution_count": null,
   "metadata": {},
   "outputs": [],
   "source": [
    "class ahorro:\n",
    "    def __init__(self,nombre:str ,monto:int)-->None:\n",
    "        self.nombre:str = nombre\n",
    "        self__monto: int = monto\n",
    "\n",
    "    def ahorrar(self, cantidad int)->bool\n",
    "         if monto > 0:\n",
    "            self.__monto += cantidad\n",
    "            return True\n",
    "        return False\n",
    "    def ahorro_total"
   ]
  }
 ],
 "metadata": {
  "language_info": {
   "name": "python"
  }
 },
 "nbformat": 4,
 "nbformat_minor": 2
}
