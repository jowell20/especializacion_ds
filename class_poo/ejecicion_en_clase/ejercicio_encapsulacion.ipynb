{
 "cells": [
  {
   "cell_type": "code",
   "execution_count": 13,
   "metadata": {},
   "outputs": [],
   "source": [
    "class Consulta:\n",
    "    def __init__(self, nombre:str,tipo:str, peso_anterior:float, peso_actual:float):\n",
    "\n",
    "        self.__nombre: str = nombre\n",
    "        self.__tipo:str = tipo\n",
    "        self.__peso_anterior: float = peso_anterior\n",
    "        self.__peso_actual: float = peso_actual\n",
    "\n",
    "    def describir(self)-> str:\n",
    "        print(f\"mascota: {self.__nombre}\")\n",
    "        print(f\"Tipo: {self.__tipo}\")\n",
    "        print(f\"Peso anterior: {self.__peso_anterior} kg\")\n",
    "        print(f\"Peso actual: {self.__peso_actual} kg\")\n",
    "\n",
    "    def diferencia_de_peso(self)->str:\n",
    "        diferencia = self.__peso_actual - self.__peso_anterior\n",
    "        if diferencia > 0:\n",
    "            print(f\"la mascota: {self.__nombre}, tipo: {self.__tipo}, ha aumentado {diferencia} kg.\")\n",
    "        elif diferencia < 0:\n",
    "            print(f\" la mascota:{self.__nombre}, tipo {self.__tipo}, ha perdido {-diferencia} kg.\")\n",
    "        else:\n",
    "            print(f\"la mascota:{self.__nombre}, tipo {self.__tipo}, no ha tenido cambios en su peso.\")\n"
   ]
  },
  {
   "cell_type": "code",
   "execution_count": 17,
   "metadata": {},
   "outputs": [
    {
     "name": "stdout",
     "output_type": "stream",
     "text": [
      "mascota: zeuz\n",
      "Tipo: husky\n",
      "Peso anterior: 25.5 kg\n",
      "Peso actual: 25.5 kg\n",
      "la mascota:zeuz, tipo husky, no ha tenido cambios en su peso.\n"
     ]
    }
   ],
   "source": [
    "consulta = Consulta(nombre=\"zeuz\",tipo=\"husky\",peso_anterior=25.5,peso_actual=25.5)\n",
    "consulta.describir()\n",
    "consulta.diferencia_de_peso()"
   ]
  }
 ],
 "metadata": {
  "kernelspec": {
   "display_name": "Python 3 (ipykernel)",
   "language": "python",
   "name": "python3"
  },
  "language_info": {
   "codemirror_mode": {
    "name": "ipython",
    "version": 3
   },
   "file_extension": ".py",
   "mimetype": "text/x-python",
   "name": "python",
   "nbconvert_exporter": "python",
   "pygments_lexer": "ipython3",
   "version": "3.12.1"
  }
 },
 "nbformat": 4,
 "nbformat_minor": 2
}
