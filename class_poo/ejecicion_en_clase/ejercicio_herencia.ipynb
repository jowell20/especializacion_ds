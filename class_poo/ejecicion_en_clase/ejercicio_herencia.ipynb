{
 "cells": [
  {
   "cell_type": "code",
   "execution_count": 57,
   "metadata": {},
   "outputs": [],
   "source": [
    "class Carros:\n",
    "    def __init__(self,marca,modelo,color)->None:\n",
    "        self.marca: str = marca\n",
    "        self.modelo:  int = modelo\n",
    "        self.color: str = color\n",
    "\n",
    "    def mostrar_detalle(self):\n",
    "        print(f\"marca:{self.marca},modelo:{self.modelo},color:{self.color}\")\n",
    "\n"
   ]
  },
  {
   "cell_type": "code",
   "execution_count": 58,
   "metadata": {},
   "outputs": [],
   "source": [
    "\n",
    "class CarroDeportivo(Carros):\n",
    "    def __init__(self,marca,color,modelo,velocidadmaxima)->None:\n",
    "        super().__init__(marca,modelo,color)\n",
    "\n",
    "        self.velocidadmaxima = velocidadmaxima\n",
    "\n",
    "    def mostrar_detalle(self)->None:\n",
    "        super().mostrar_detalle()\n",
    "        print(f\"velocidad maxima es:{self.velocidadmaxima}\")\n",
    "\n",
    "    def acelerar(self)->None:\n",
    "        printf (\"el carro estA acelerando\")"
   ]
  },
  {
   "cell_type": "code",
   "execution_count": 59,
   "metadata": {},
   "outputs": [],
   "source": [
    "class CarroFamiliar(Carros):\n",
    "    def __init__(self,marca,color,modelo,numeropasajeros)->None:\n",
    "        super().__init__(marca,modelo,color)\n",
    "        self.numeropasajeros = numeropasajeros\n",
    "\n",
    "    def mostrar_detalle(self)->None:\n",
    "        super().mostrar_detalle()\n",
    "        print(f\"el numero de pasajeros es :{self.numeropasajeros}\")\n",
    "\n"
   ]
  },
  {
   "cell_type": "code",
   "execution_count": 56,
   "metadata": {},
   "outputs": [
    {
     "name": "stdout",
     "output_type": "stream",
     "text": [
      "marca:ferrari,modelo:2024,color:rojo\n",
      "velocidad maxima es:230\n",
      "marca:toyota,modelo:2022,color:negro\n",
      "el numero de pasajeros es :8\n"
     ]
    }
   ],
   "source": [
    "carrodeportivo = CarroDeportivo(marca=\"ferrari\",modelo=2024,color=\"rojo\",velocidadmaxima=230)\n",
    "carrodeportivo.mostrar_detalle()\n",
    "\n",
    "carrofamiliar = CarroFamiliar(marca=\"toyota\",modelo=2022,color=\"negro\",numeropasajeros=8)\n",
    "carrofamiliar.mostrar_detalle()"
   ]
  }
 ],
 "metadata": {
  "kernelspec": {
   "display_name": "Python 3 (ipykernel)",
   "language": "python",
   "name": "python3"
  },
  "language_info": {
   "codemirror_mode": {
    "name": "ipython",
    "version": 3
   },
   "file_extension": ".py",
   "mimetype": "text/x-python",
   "name": "python",
   "nbconvert_exporter": "python",
   "pygments_lexer": "ipython3",
   "version": "3.12.1"
  }
 },
 "nbformat": 4,
 "nbformat_minor": 2
}
