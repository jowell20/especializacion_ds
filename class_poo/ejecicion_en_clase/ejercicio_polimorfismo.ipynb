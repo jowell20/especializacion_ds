{
 "cells": [
  {
   "cell_type": "code",
   "execution_count": 19,
   "metadata": {},
   "outputs": [],
   "source": [
    "from abc import ABC, abstractmethod\n",
    "\n",
    "class Mascota(ABC):\n",
    "    def __init__(self,nombre: str,tipo: str ,edad:int) ->None:\n",
    "        self.nombre: str = nombre\n",
    "        self.tipo: str = tipo\n",
    "        self.edad: int = edad\n",
    "\n",
    "    @abstractmethod\n",
    "    def sonido(self)->str:\n",
    "        pass\n",
    "\n",
    "    @abstractmethod\n",
    "    def movimiento(self) -> str:\n",
    "        pass\n",
    "\n",
    "    def descripcion(self) -> str:\n",
    "        return f\"{self.nombre} {self.tipo} {self.edad}\"\n",
    "\n"
   ]
  },
  {
   "cell_type": "code",
   "execution_count": 20,
   "metadata": {},
   "outputs": [],
   "source": [
    "class Perro(Mascota):\n",
    "    def movimiento(self) ->str:\n",
    "        return \"El perro esta corriendo\"\n",
    "\n",
    "    def sonido(self) ->str:\n",
    "        return \"el perro esta ladrando\"\n",
    "\n",
    "class Pajaro(Mascota):\n",
    "    def movimiento(self) ->str:\n",
    "        return \"El pajaro esta volando\"\n",
    "\n",
    "    def sonido(self ) ->str:\n",
    "        return \"el pajaro esta cantando\"\n",
    "\n",
    "class Gato(Mascota):\n",
    "    def movimiento(self) ->str:\n",
    "        return \"El pajaro esta saltando\"\n",
    "\n",
    "    def sonido(self ) ->str:\n",
    "        return \"el pajaro esta maullando\""
   ]
  },
  {
   "cell_type": "code",
   "execution_count": 24,
   "metadata": {},
   "outputs": [],
   "source": [
    "def detallar(mascota : Mascota) ->None:\n",
    "    print(f\"detalles de la mascota {mascota.descripcion()}:\")\n",
    "    print(mascota.movimiento())\n",
    "    print(mascota.sonido())\n"
   ]
  },
  {
   "cell_type": "code",
   "execution_count": 31,
   "metadata": {},
   "outputs": [],
   "source": [
    "perro: Perro=Perro(nombre=\"firulais\",tipo=\"perro\",edad=10)\n",
    "gato: Gato=Gato(nombre=\"micho\",tipo=\"gato\",edad=3)\n",
    "pajaro: Pajaro=Pajaro(nombre=\"piolin\",tipo=\"pajaro\",edad=1)"
   ]
  },
  {
   "cell_type": "code",
   "execution_count": 26,
   "metadata": {},
   "outputs": [
    {
     "name": "stdout",
     "output_type": "stream",
     "text": [
      "detalles de la mascota firulais perro 10:\n",
      "El perro esta corriendo\n",
      "el perro esta ladrando\n",
      "detalles de la mascota micho gato 3:\n",
      "El pajaro esta saltando\n",
      "el pajaro esta maullando\n",
      "detalles de la mascota piolin pajaro 1:\n",
      "El pajaro esta volando\n",
      "el pajaro esta cantando\n"
     ]
    }
   ],
   "source": [
    "for Mascota in [perro,gato,pajaro]:\n",
    "    detallar(mascota=Mascota)"
   ]
  }
 ],
 "metadata": {
  "kernelspec": {
   "display_name": "Python 3 (ipykernel)",
   "language": "python",
   "name": "python3"
  },
  "language_info": {
   "codemirror_mode": {
    "name": "ipython",
    "version": 3
   },
   "file_extension": ".py",
   "mimetype": "text/x-python",
   "name": "python",
   "nbconvert_exporter": "python",
   "pygments_lexer": "ipython3",
   "version": "3.12.1"
  }
 },
 "nbformat": 4,
 "nbformat_minor": 2
}
