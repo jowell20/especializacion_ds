{
 "cells": [
  {
   "cell_type": "code",
   "execution_count": 1,
   "metadata": {},
   "outputs": [],
   "source": [
    "class Auto:\n",
    "    def __init__(self,cilindraje:int, modelo:int)->None:\n",
    "        self.cilindraje: int= cilindraje\n",
    "        self.modelo:str= modelo\n",
    "\n",
    "    def auto_veloz(self)->None:\n",
    "        if self.cilindraje>=3.5:\n",
    "            print(\"el Auto es veloz \")\n",
    "        else:\n",
    "            print(\"el auto es lento\")\n"
   ]
  },
  {
   "cell_type": "code",
   "execution_count": 2,
   "metadata": {},
   "outputs": [
    {
     "name": "stdout",
     "output_type": "stream",
     "text": [
      "el Auto es veloz \n"
     ]
    }
   ],
   "source": [
    "auto= Auto(cilindraje =4.5, modelo=1992)\n",
    "\n",
    "auto.auto_veloz()"
   ]
  }
 ],
 "metadata": {
  "kernelspec": {
   "display_name": "Python 3 (ipykernel)",
   "language": "python",
   "name": "python3"
  },
  "language_info": {
   "codemirror_mode": {
    "name": "ipython",
    "version": 3
   },
   "file_extension": ".py",
   "mimetype": "text/x-python",
   "name": "python",
   "nbconvert_exporter": "python",
   "pygments_lexer": "ipython3",
   "version": "3.12.1"
  }
 },
 "nbformat": 4,
 "nbformat_minor": 2
}
