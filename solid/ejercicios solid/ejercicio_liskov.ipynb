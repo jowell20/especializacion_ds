{
 "cells": [
  {
   "cell_type": "code",
   "execution_count": 10,
   "metadata": {},
   "outputs": [],
   "source": [
    "# en este ejercicio se  rompre el principio de liskov puesto que el salario del gerente  se calcula diferente a los ..\n",
    "#.. demas empleados y retorna un string cuando se espera un entero\n",
    "class Empleado:\n",
    "    def __init__(self, nombre):\n",
    "        self.nombre = nombre\n",
    "\n",
    "    def calcular_salario(self):\n",
    "        return 1000\n",
    "\n",
    "\n",
    "class Gerente(Empleado):\n",
    "    def calcular_salario(self):\n",
    "        return \"El gerente no tiene salario base\"  # aqui se viola el principo de liskov porque retorna un strin..\n",
    "                                                   #.. y la clase prinicpal espera un entero\n",
    "\n",
    "\n",
    "class EmpleadoInterno(Empleado):\n",
    "    def calcular_salario(self):\n",
    "        return 500               # aqui la clase empleado si respeta el principio liskov ya que retorna un tipo ..\n",
    "                                 #.. tipo entero que es el eperado en la clase empleado"
   ]
  },
  {
   "cell_type": "code",
   "execution_count": 3,
   "metadata": {},
   "outputs": [
    {
     "name": "stdout",
     "output_type": "stream",
     "text": [
      "el salario del empleado es \n",
      "1000\n",
      "El gerente no tiene salario base\n"
     ]
    }
   ],
   "source": [
    "def imprimir_salario(empleado: Empleado):\n",
    "    print(empleado.calcular_salario())\n",
    "\n",
    "\n",
    "empleado1 = Empleado(\"Carlos\")\n",
    "gerente1 = Gerente(\"Ana\")\n",
    "print (f\"el salario del empleado es \")\n",
    "imprimir_salario(empleado1)\n",
    "imprimir_salario(gerente1)   # Rompe el principio Liskov porque  el tipo de retorno no es consistente"
   ]
  },
  {
   "cell_type": "code",
   "execution_count": 9,
   "metadata": {},
   "outputs": [],
   "source": [
    "# Ejemplo respetando el princio liskov\n",
    "class Empleado:\n",
    "    def __init__(self, nombre):\n",
    "        self.nombre = nombre\n",
    "\n",
    "    def calcular_salario(self):\n",
    "        return 1000                # este es un valor por defectos para todos los empleados\n",
    "\n",
    "\n",
    "\n",
    "class Gerente(Empleado):\n",
    "    def calcular_salario(self):\n",
    "        return 2000              # en este ejemplo el gerente tiene un salario difernete pero retorna...\n",
    "                                 #.. el mismo tipo de dato qu espera la clase principal\n",
    "\n",
    "\n",
    "\n",
    "class EmpleadoInterno(Empleado):\n",
    "    def calcular_salario(self):\n",
    "        return 500"
   ]
  },
  {
   "cell_type": "code",
   "execution_count": 8,
   "metadata": {},
   "outputs": [
    {
     "name": "stdout",
     "output_type": "stream",
     "text": [
      "El salario de Jose es: 1000\n",
      "El salario de Teresa es: 2000\n",
      "El salario de ana es: 500\n"
     ]
    }
   ],
   "source": [
    "def imprimir_salario(empleado: Empleado):\n",
    "    print(f\"El salario de {empleado.nombre} es: {empleado.calcular_salario()}\")\n",
    "\n",
    "\n",
    "empleado1 = Empleado(\"Jose\")\n",
    "gerente1 = Gerente(\"Teresa\")\n",
    "empleado_interno1 = EmpleadoInterno(\"ana\")\n",
    "\n",
    "imprimir_salario(empleado1)        \n",
    "imprimir_salario(gerente1)\n",
    "imprimir_salario(empleado_interno1)"
   ]
  }
 ],
 "metadata": {
  "kernelspec": {
   "display_name": "Python 3 (ipykernel)",
   "language": "python",
   "name": "python3"
  },
  "language_info": {
   "codemirror_mode": {
    "name": "ipython",
    "version": 3
   },
   "file_extension": ".py",
   "mimetype": "text/x-python",
   "name": "python",
   "nbconvert_exporter": "python",
   "pygments_lexer": "ipython3",
   "version": "3.12.1"
  }
 },
 "nbformat": 4,
 "nbformat_minor": 2
}
