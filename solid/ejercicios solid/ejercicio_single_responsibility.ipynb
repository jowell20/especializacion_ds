{
 "cells": [
  {
   "cell_type": "code",
   "execution_count": 11,
   "metadata": {},
   "outputs": [],
   "source": [
    "class Carro:\n",
    "    def __init__(self, marca, modelo):\n",
    "        self.marca: str = marca\n",
    "        self.modelo: str = modelo\n",
    "\n",
    "    def informacion(self):\n",
    "        return f\"{self.marca} {self.modelo}\"\n",
    "\n",
    "    def distancia(self, speed, tiempo):\n",
    "        return speed * tiempo\n",
    "\n",
    "\n",
    "class CarroCarrera:\n",
    "    def print_informacion(self, carro: Carro):\n",
    "        print(f\"Car: {carro.informacion()}\")\n",
    "\n",
    "    def print_distancia(self, carro: Carro, speed, tiempo):\n",
    "        distancia = carro.distancia(speed, tiempo)\n",
    "        print(f\"La distancia recorrida es {distancia:.2f} km a una velocidad de {speed} km/h durante {tiempo} horas.\")\n",
    "class CarroCarrera:\n",
    "    def print_informacion(self, carro: Carro):\n",
    "        print(f\"Car: {carro.informacion()}\")\n",
    "\n",
    "    def print_distancia(self, carro: Carro, speed, tiempo):\n",
    "        distancia = carro.distancia(speed, tiempo)\n",
    "        print(f\"La distancia recorrida es {distancia:.2f} km a una velocidad de {speed} km/h durante {tiempo} horas.\")\n",
    "class CarroFamiliar:\n",
    "    def print_informacion(self, carro: Carro):\n",
    "        print(f\"Car: {carro.informacion()}\")\n",
    "\n",
    "    def print_distancia(self, carro: Carro, speed, tiempo):\n",
    "        distancia = CalculadoraDistancia.calcular_distancia(speed, tiempo)\n",
    "        print(f\"La distancia recorrida es {distancia:.2f} km a una velocidad de {speed} km/h durante {tiempo} horas.\")"
   ]
  },
  {
   "cell_type": "code",
   "execution_count": 12,
   "metadata": {},
   "outputs": [
    {
     "name": "stdout",
     "output_type": "stream",
     "text": [
      "Car: Toyota Corolla\n",
      "La distancia recorrida es 400.00 km a una velocidad de 200 km/h durante 2 horas.\n",
      "Car: huynday accent\n",
      "La distancia recorrida es 150.00 km a una velocidad de 75 km/h durante 2 horas.\n"
     ]
    }
   ],
   "source": [
    "carro = Carro(marca=\"Toyota\", modelo=\"Corolla\")\n",
    "carroCarrera = CarroCarrera()\n",
    "carroCarrera.print_informacion(carro)\n",
    "carroCarrera.print_distancia(carro,200, 2)\n",
    "\n",
    "\n",
    "carro = Carro(marca=\"huynday\", modelo=\"accent\")\n",
    "carroFamiliar =CarroFamiliar()\n",
    "carroFamiliar.print_informacion(carro)\n",
    "carroFamiliar.print_distancia(carro,75, 2)\n"
   ]
  },
  {
   "cell_type": "code",
   "execution_count": 13,
   "metadata": {},
   "outputs": [],
   "source": [
    "# en el ejemplo aplicando Single  responsibilty la clase carro se encarga solo de la informacion de marca y modelo\n",
    "class Carro:\n",
    "    def __init__(self, marca, modelo):\n",
    "        self.marca: str = marca\n",
    "        self.modelo: str = modelo\n",
    "\n",
    "    def informacion(self):\n",
    "        return f\"{self.marca} {self.modelo}\"\n",
    "\n",
    "# se creo la clase calcular distancia de forma que se fueda utilizar en donde se nesecite sin necidad de utilizar la clase carro\n",
    "class CalculadoraDistancia:\n",
    "    @staticmethod\n",
    "    def calcular_distancia(speed, tiempo):\n",
    "        return speed * tiempo\n",
    "\n",
    "#\n",
    "class CarroCarrera:\n",
    "    def print_informacion(self, carro: Carro):\n",
    "        print(f\"Car: {carro.informacion()}\")\n",
    "\n",
    "    def print_distancia(self, carro: Carro, speed, tiempo):\n",
    "        distancia = CalculadoraDistancia.calcular_distancia(speed, tiempo)\n",
    "        print(f\"La distancia recorrida es {distancia:.2f} km a una velocidad de {speed} km/h durante {tiempo} horas.\")\n",
    "\n",
    "class CarroFamiliar:\n",
    "    def print_informacion(self, carro: Carro):\n",
    "        print(f\"Car: {carro.informacion()}\")\n",
    "\n",
    "    def print_distancia(self, carro: Carro, speed, tiempo):\n",
    "        distancia = CalculadoraDistancia.calcular_distancia(speed, tiempo)\n",
    "        print(f\"La distancia recorrida es {distancia:.2f} km a una velocidad de {speed} km/h durante {tiempo} horas.\")"
   ]
  },
  {
   "cell_type": "code",
   "execution_count": 14,
   "metadata": {},
   "outputs": [
    {
     "name": "stdout",
     "output_type": "stream",
     "text": [
      "Car: Toyota Corolla\n",
      "La distancia recorrida es 150.00 km a una velocidad de 75 km/h durante 2 horas.\n",
      "Car: huynday accent\n",
      "La distancia recorrida es 150.00 km a una velocidad de 75 km/h durante 2 horas.\n"
     ]
    }
   ],
   "source": [
    "carro = Carro(marca=\"Toyota\", modelo=\"Corolla\")\n",
    "carroCarrera = CarroCarrera()\n",
    "carroCarrera.print_informacion(carro)\n",
    "carroCarrera.print_distancia(carro, 75, 2)\n",
    "\n",
    "carro = Carro(marca=\"huynday\", modelo=\"accent\")\n",
    "carroFamiliar =CarroFamiliar()\n",
    "carroFamiliar.print_informacion(carro)\n",
    "carroFamiliar.print_distancia(carro,75, 2)"
   ]
  }
 ],
 "metadata": {
  "kernelspec": {
   "display_name": "Python 3 (ipykernel)",
   "language": "python",
   "name": "python3"
  },
  "language_info": {
   "codemirror_mode": {
    "name": "ipython",
    "version": 3
   },
   "file_extension": ".py",
   "mimetype": "text/x-python",
   "name": "python",
   "nbconvert_exporter": "python",
   "pygments_lexer": "ipython3",
   "version": "3.12.1"
  }
 },
 "nbformat": 4,
 "nbformat_minor": 2
}
