{
 "cells": [
  {
   "cell_type": "code",
   "execution_count": 1,
   "metadata": {},
   "outputs": [],
   "source": [
    "\"\"\"ejemplo donde no se cumple el principio de dependency segregation\n",
    "En este ejemplo la clase de alto nivel depende de clases de bajo nivel como martillo y destornillador \"\"\"\n",
    "class Martillo:# clase bajo nivel\n",
    "    def golpear(self):\n",
    "        return \"Golpeando con el martillo\"\n",
    "\n",
    "class Destornillador:\n",
    "    def girar(self): # clase bajo nivel\n",
    "        return \"Girando con el destornillador\""
   ]
  },
  {
   "cell_type": "code",
   "execution_count": 2,
   "metadata": {},
   "outputs": [],
   "source": [
    "class CajaDeHerramientas: # clase alto nivel\n",
    "    def __init__(self):\n",
    "        self.martillo = Martillo()  # Dependencia directa de Martillo que es clase de bajo nivel\n",
    "        self.destornillador = Destornillador()  # Dependencia directa de Destornillador que es clase de bajo nivel\n",
    "\n",
    "    def usar_martillo(self):\n",
    "        return self.martillo.golpear()\n",
    "\n",
    "    def usar_destornillador(self):\n",
    "        return self.destornillador.girar()"
   ]
  },
  {
   "cell_type": "code",
   "execution_count": 3,
   "metadata": {},
   "outputs": [
    {
     "name": "stdout",
     "output_type": "stream",
     "text": [
      "Golpeando con el martillo\n",
      "Girando con el destornillador\n"
     ]
    }
   ],
   "source": [
    "caja = CajaDeHerramientas()\n",
    "print(caja.usar_martillo())  # Golpeando con el martillo\n",
    "print(caja.usar_destornillador())  # Girando con el destornillador"
   ]
  },
  {
   "cell_type": "code",
   "execution_count": 4,
   "metadata": {},
   "outputs": [],
   "source": [
    "\"\"\" Ejemplo respetando el principio de dependency segregation\n",
    "    en este caso la clase de lato nivel no depende directamente de las clases de bajo nivel por\n",
    "    lo contrario de la interfaz abstracta  herramienta\n",
    "\"\"\"\n",
    "from abc import ABC, abstractmethod\n",
    "\n",
    "class Herramienta(ABC):\n",
    "    @abstractmethod\n",
    "    def usar(self):\n",
    "        pass"
   ]
  },
  {
   "cell_type": "code",
   "execution_count": 6,
   "metadata": {},
   "outputs": [],
   "source": [
    "class Martillo(Herramienta):\n",
    "    def usar(self):\n",
    "        return \"Golpeando con el martillo\"\n",
    "\n",
    "class Destornillador(Herramienta):\n",
    "    def usar(self):\n",
    "        return \"Girando con el destornillador\"\n"
   ]
  },
  {
   "cell_type": "code",
   "execution_count": 7,
   "metadata": {},
   "outputs": [],
   "source": [
    "class CajaDeHerramientas:\n",
    "    def __init__(self, herramientas):  # Dependencia de la interfaz anstracta herramienta\n",
    "        self.herramientas = herramientas\n",
    "\n",
    "    def usar_herramienta(self, herramienta: Herramienta):\n",
    "        return herramienta.usar()"
   ]
  },
  {
   "cell_type": "code",
   "execution_count": 9,
   "metadata": {},
   "outputs": [
    {
     "name": "stdout",
     "output_type": "stream",
     "text": [
      "Golpeando con el martillo\n",
      "Girando con el destornillador\n"
     ]
    }
   ],
   "source": [
    "\n",
    "martillo = Martillo()\n",
    "destornillador = Destornillador()\n",
    "caja = CajaDeHerramientas([martillo, destornillador])\n",
    "\n",
    "# Usando herramientas\n",
    "for herramienta in caja.herramientas:\n",
    "    print(caja.usar_herramienta(herramienta))"
   ]
  }
 ],
 "metadata": {
  "kernelspec": {
   "display_name": "Python 3 (ipykernel)",
   "language": "python",
   "name": "python3"
  },
  "language_info": {
   "codemirror_mode": {
    "name": "ipython",
    "version": 3
   },
   "file_extension": ".py",
   "mimetype": "text/x-python",
   "name": "python",
   "nbconvert_exporter": "python",
   "pygments_lexer": "ipython3",
   "version": "3.12.1"
  }
 },
 "nbformat": 4,
 "nbformat_minor": 2
}
