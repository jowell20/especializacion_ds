{
 "cells": [
  {
   "cell_type": "code",
   "execution_count": 27,
   "metadata": {},
   "outputs": [],
   "source": [
    "# en este ejemplo tiene un problema si queremos aplicar mas tipos de empleados tendriamos que modificar el...\n",
    "# ...metodo de calcular salario de la clase principal (\"Empleado\")\n",
    "class Empleado:\n",
    "    def __init__(self, nombre, tipo):\n",
    "        self.nombre = nombre\n",
    "        self.tipo = tipo\n",
    "\n",
    "    def calcular_salario(self):\n",
    "        if self.tipo == \"empleado_normal\":\n",
    "            return 1000000\n",
    "\n",
    "        elif self.tipo == \"gerente\":\n",
    "            return 20000000\n",
    "        else:\n",
    "            return 0"
   ]
  },
  {
   "cell_type": "code",
   "execution_count": 28,
   "metadata": {},
   "outputs": [
    {
     "name": "stdout",
     "output_type": "stream",
     "text": [
      "El salario de Jose con cargo empleado_normal es: 1000000\n",
      "El salario de Teresa con cargo gerente es: 20000000\n"
     ]
    }
   ],
   "source": [
    "empleado1 = Empleado(\"Jose\", \"empleado_normal\")\n",
    "print(f\"El salario de {empleado1.nombre} con cargo {empleado1.tipo} es: {empleado1.calcular_salario()}\")\n",
    "empleado2 = Empleado(\"Teresa\", \"gerente\")\n",
    "print(f\"El salario de {empleado2.nombre} con cargo {empleado2.tipo} es: {empleado2.calcular_salario()}\")\n",
    "\n"
   ]
  },
  {
   "cell_type": "code",
   "execution_count": 29,
   "metadata": {},
   "outputs": [],
   "source": [
    "# en este ejemplo la calse empleado solo tiene la funcion calcular  salario que obliga a los demas clases a utilizar..\n",
    "#.. el metodo calcular salario por que todo empleado debe calcular salario\n",
    "class Empleado:\n",
    "    def __init__(self, nombre):\n",
    "        self.nombre = nombre\n",
    "\n",
    "    def calcular_salario(self):\n",
    "        raise NotImplementedError(\"Subclases deben implementar este método.\")\n",
    "\n",
    "\n",
    "# Subclase para Empleado Normal\n",
    "class EmpleadoNormal(Empleado):\n",
    "    def calcular_salario(self):\n",
    "        return 1000000\n",
    "\n",
    "\n",
    "# Subclase para Gerente\n",
    "class Gerente(Empleado):\n",
    "    def calcular_salario(self):\n",
    "        return 20000000\n",
    "\n",
    "# si añadimos una clase subgerente esta tendra su pripia funcion de calcular salaro y\n",
    "#no endramos que calcular nuestra clase principal\n",
    "class SubGerente(Empleado):\n",
    "    def calcular_salario(self):\n",
    "        return 1500000\n"
   ]
  },
  {
   "cell_type": "code",
   "execution_count": 30,
   "metadata": {},
   "outputs": [
    {
     "name": "stdout",
     "output_type": "stream",
     "text": [
      "El salario de Jose es: 1000000\n",
      "El salario de Teresa es: 20000000\n",
      "El salario de Ana es: 1500000\n"
     ]
    }
   ],
   "source": [
    "empleado1 = EmpleadoNormal(\"Jose\")\n",
    "empleado2 = Gerente(\"Teresa\")\n",
    "empleado3 = SubGerente(\"Ana\")\n",
    "\n",
    "print(f\"El salario de {empleado1.nombre} es: {empleado1.calcular_salario()}\")\n",
    "print(f\"El salario de {empleado2.nombre} es: {empleado2.calcular_salario()}\")\n",
    "print(f\"El salario de {empleado3.nombre} es: {empleado3.calcular_salario()}\")"
   ]
  }
 ],
 "metadata": {
  "kernelspec": {
   "display_name": "Python 3 (ipykernel)",
   "language": "python",
   "name": "python3"
  },
  "language_info": {
   "codemirror_mode": {
    "name": "ipython",
    "version": 3
   },
   "file_extension": ".py",
   "mimetype": "text/x-python",
   "name": "python",
   "nbconvert_exporter": "python",
   "pygments_lexer": "ipython3",
   "version": "3.12.1"
  }
 },
 "nbformat": 4,
 "nbformat_minor": 2
}
