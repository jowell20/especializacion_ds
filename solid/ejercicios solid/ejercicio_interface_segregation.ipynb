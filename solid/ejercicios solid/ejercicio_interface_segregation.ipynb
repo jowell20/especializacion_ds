{
 "cells": [
  {
   "cell_type": "code",
   "execution_count": 54,
   "metadata": {},
   "outputs": [],
   "source": [
    "# ejemplo rompiendo el principio interface segregation\n",
    "# esta clase trabajador tiene demasido metodos que obliga a cumplir a los distintos tipos de trabajador\n",
    "class Trabajador:\n",
    "    def trabajar(self):\n",
    "        raise NotImplementedError(\"Subclases deben implementar este método.\")\n",
    "\n",
    "    def calcular_horas_trabajadas(self, horas):\n",
    "        raise NotImplementedError(\"Subclases deben implementar este método.\")\n",
    "\n",
    "    def construir(self):\n",
    "        raise NotImplementedError(\"Subclases deben implementar este método.\")\n",
    "\n",
    "    def programar(self, lineas_codigo):\n",
    "        raise NotImplementedError(\"Subclases deben implementar este método.\")\n",
    "\n",
    "    def validar_herramientas(self):\n",
    "        raise NotImplementedError(\"Subclases deben implementar este método.\")\n"
   ]
  },
  {
   "cell_type": "code",
   "execution_count": 55,
   "metadata": {},
   "outputs": [],
   "source": [
    "# Clase  trabajadorOficina esta siendo obligado a implementar métodos que no le irrelevante..\n",
    "#.. como construir o validar herramienta\n",
    "class TrabajadorOficina(Trabajador):\n",
    "    def trabajar(self):\n",
    "        return \"Trabajando en la oficina.\"\n",
    "\n",
    "    def calcular_horas_trabajadas(self, horas):\n",
    "        return f\"Has trabajado {horas} horas.\"\n",
    "\n",
    "    def construir(self):\n",
    "        return \"No puedo construir, no es parte de mi trabajo.\"  # Método innecesario\n",
    "\n",
    "    def programar(self, lineas_codigo):\n",
    "        if lineas_codigo < 100:\n",
    "            #return \"Escribiste pocas líneas de código.\"\n",
    "            return f\"Escribiste pocas ( {lineas_codigo} )líneas de código.\"\n",
    "        else:\n",
    "            return f\"Escribiste muchas ( {lineas_codigo} )líneas de código.\"\n",
    "\n",
    "    def validar_herramientas(self):\n",
    "        return \"No necesito herramientas físicas.\"  # Método innecesario"
   ]
  },
  {
   "cell_type": "code",
   "execution_count": 56,
   "metadata": {},
   "outputs": [],
   "source": [
    "# Clase constructor, obligado a implementar métodos irrelevantes como programar\n",
    "class Constructor(Trabajador):\n",
    "    def trabajar(self):\n",
    "        return \"Trabajando en la obra de construcción.\"\n",
    "\n",
    "    def calcular_horas_trabajadas(self, horas):\n",
    "        return f\"Has trabajado {horas} horas en la obra.\"\n",
    "\n",
    "    def construir(self):\n",
    "        return \"Usando herramientas para construir una casa.\"\n",
    "\n",
    "    def programar(self, lineas_codigo):\n",
    "        return \"No puedo programar, no es parte de mi trabajo.\"  # Método innecesario\n",
    "\n",
    "    def validar_herramientas(self):\n",
    "        return \"Todas las herramientas están en buen estado.\""
   ]
  },
  {
   "cell_type": "code",
   "execution_count": 59,
   "metadata": {},
   "outputs": [
    {
     "name": "stdout",
     "output_type": "stream",
     "text": [
      "Trabajando en la oficina.\n",
      "Has trabajado 8 horas.\n",
      "No puedo construir, no es parte de mi trabajo.\n",
      "Escribiste pocas ( 50 )líneas de código.\n",
      "No necesito herramientas físicas.\n",
      "\n",
      "\n",
      "Trabajando en la obra de construcción.\n",
      "Has trabajado 10 horas en la obra.\n",
      "Usando herramientas para construir una casa.\n",
      "No puedo programar, no es parte de mi trabajo.\n",
      "Todas las herramientas están en buen estado.\n"
     ]
    }
   ],
   "source": [
    "trabajador_oficina = TrabajadorOficina()\n",
    "print(trabajador_oficina.trabajar())\n",
    "print(trabajador_oficina.calcular_horas_trabajadas(8))\n",
    "print(trabajador_oficina.construir()) # este metodo es innecesario para el trabajador de oficina\n",
    "\n",
    "print(trabajador_oficina.programar(50))\n",
    "print(trabajador_oficina.validar_herramientas())  # este metodo es innecesario para el trabajador de oficina\n",
    "\n",
    "print(\"\\n\")\n",
    "\n",
    "constructor = Constructor()\n",
    "print(constructor.trabajar())\n",
    "print(constructor.calcular_horas_trabajadas(10))\n",
    "print(constructor.construir())\n",
    "print(constructor.programar(0))  # este metodo es innecesario para el trabajador de obra o constructor\n",
    "print(constructor.validar_herramientas())"
   ]
  },
  {
   "cell_type": "code",
   "execution_count": 43,
   "metadata": {},
   "outputs": [],
   "source": [
    "\"\"\"ejemplo aplicando el principio de interface segregation\n",
    " se crearon varias interfeces mas especificas horas trabajo , constructor, programador ahora cada tipo\n",
    " empledo podra utilizar las clses que nesecite\"\"\"\n",
    "class HorasTrabajo:\n",
    "    def calcular_horas_trabajadas(self, horas):\n",
    "        raise NotImplementedError(\"Subclases deben implementar este método.\")\n",
    "\n",
    "\n",
    "class Constructor:\n",
    "    def construir(self):\n",
    "        raise NotImplementedError(\"Subclases deben implementar este método.\")\n",
    "\n",
    "    def validar_herramientas(self):\n",
    "        raise NotImplementedError(\"Subclases deben implementar este método.\")\n",
    "\n",
    "\n",
    "class Programador:\n",
    "    def programar(self, lineas_codigo):\n",
    "        raise NotImplementedError(\"Subclases deben implementar este método.\")\n",
    "\n",
    "\n",
    "\n",
    "\n"
   ]
  },
  {
   "cell_type": "code",
   "execution_count": 44,
   "metadata": {},
   "outputs": [],
   "source": [
    "# EL trabajador de oficina solo implementa las interfaces necesarias\n",
    "class TrabajadorOficina(HorasTrabajo, Programador):\n",
    "    def calcular_horas_trabajadas(self, horas):\n",
    "        return f\"Has trabajado {horas} horas en la oficina.\"\n",
    "\n",
    "    def programar(self, lineas_codigo):\n",
    "        if lineas_codigo < 100:\n",
    "            #return \"Escribiste pocas líneas de código.\"\n",
    "            return f\"Escribiste pocas ( {lineas_codigo} )líneas de código.\"\n",
    "        else:\n",
    "            return f\"Escribiste muchas ( {lineas_codigo} )líneas de código.\""
   ]
  },
  {
   "cell_type": "code",
   "execution_count": 45,
   "metadata": {},
   "outputs": [],
   "source": [
    "# Constructor solo implementa las interfaces necesarias\n",
    "class Obrero(HorasTrabajo, Constructor):\n",
    "    def calcular_horas_trabajadas(self, horas):\n",
    "        return f\"Has trabajado {horas} horas en la construcción.\"\n",
    "\n",
    "    def construir(self):\n",
    "        return \"Usando herramientas para construir una casa.\"\n",
    "\n",
    "    def validar_herramientas(self):\n",
    "        return \"Todas las herramientas están en buen estado.\""
   ]
  },
  {
   "cell_type": "code",
   "execution_count": 61,
   "metadata": {},
   "outputs": [
    {
     "name": "stdout",
     "output_type": "stream",
     "text": [
      "Has trabajado 8 horas.\n",
      "Escribiste muchas ( 200 )líneas de código.\n",
      "\n",
      "\n",
      "Has trabajado 10 horas en la construcción.\n",
      "Usando herramientas para construir una casa.\n",
      "Todas las herramientas están en buen estado.\n"
     ]
    }
   ],
   "source": [
    "\n",
    "trabajador_oficina = TrabajadorOficina()\n",
    "print(trabajador_oficina.calcular_horas_trabajadas(8))\n",
    "print(trabajador_oficina.programar(200))\n",
    "print(\"\\n\")\n",
    "obrero = Obrero()\n",
    "print(obrero.calcular_horas_trabajadas(10))\n",
    "print(obrero.construir())\n",
    "print(obrero.validar_herramientas())"
   ]
  }
 ],
 "metadata": {
  "kernelspec": {
   "display_name": "Python 3 (ipykernel)",
   "language": "python",
   "name": "python3"
  },
  "language_info": {
   "codemirror_mode": {
    "name": "ipython",
    "version": 3
   },
   "file_extension": ".py",
   "mimetype": "text/x-python",
   "name": "python",
   "nbconvert_exporter": "python",
   "pygments_lexer": "ipython3",
   "version": "3.12.1"
  }
 },
 "nbformat": 4,
 "nbformat_minor": 2
}
